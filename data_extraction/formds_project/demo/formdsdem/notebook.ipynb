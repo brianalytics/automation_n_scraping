{
 "cells": [
  {
   "cell_type": "code",
   "metadata": {
    "cell_id": "259d3e12-7cba-4882-aab1-93fb9c483714",
    "tags": [],
    "deepnote_to_be_reexecuted": false,
    "source_hash": "eb10d990",
    "execution_start": 1647895478993,
    "execution_millis": 8134,
    "output_cleared": false,
    "deepnote_cell_type": "code",
    "deepnote_cell_height": 216
   },
   "source": "pip install -r requirements.txt ",
   "execution_count": null,
   "outputs": [
    {
     "name": "stdout",
     "text": "Requirement already satisfied: bs4==0.0.1 in /root/venv/lib/python3.7/site-packages (from -r requirements.txt (line 1)) (0.0.1)\nRequirement already satisfied: beautifulsoup4 in /root/venv/lib/python3.7/site-packages (from bs4==0.0.1->-r requirements.txt (line 1)) (4.10.0)\nRequirement already satisfied: soupsieve>1.2 in /root/venv/lib/python3.7/site-packages (from beautifulsoup4->bs4==0.0.1->-r requirements.txt (line 1)) (2.3.1)\n\u001b[33mWARNING: You are using pip version 20.1.1; however, version 22.0.4 is available.\nYou should consider upgrading via the '/usr/local/bin/python -m pip install --upgrade pip' command.\u001b[0m\nNote: you may need to restart the kernel to use updated packages.\n",
     "output_type": "stream"
    }
   ]
  },
  {
   "cell_type": "code",
   "metadata": {
    "tags": [],
    "cell_id": "bdad81e1-2766-4ec2-b591-1b8c18d3654e",
    "deepnote_to_be_reexecuted": false,
    "source_hash": "ea2a2b6b",
    "execution_start": 1651937760003,
    "execution_millis": 161,
    "output_cleared": true,
    "deepnote_cell_type": "code",
    "deepnote_cell_height": 171
   },
   "source": "#imports\nfrom bs4 import BeautifulSoup\nimport requests\nimport pandas as pd\nimport urllib.parse\nimport numpy as np",
   "execution_count": null,
   "outputs": []
  },
  {
   "cell_type": "code",
   "metadata": {
    "cell_id": "be45623d-fe4f-4640-ae7a-c7564911b4f2",
    "tags": [],
    "deepnote_to_be_reexecuted": false,
    "source_hash": "8d9da956",
    "execution_start": 1651937775418,
    "execution_millis": 65,
    "output_cleared": true,
    "deepnote_cell_type": "code",
    "deepnote_cell_height": 99
   },
   "source": "url = 'https://formds.com/filings/newest'\nresponse = requests.get(url)",
   "execution_count": null,
   "outputs": []
  },
  {
   "cell_type": "code",
   "metadata": {
    "cell_id": "26360345-fbe7-45c0-9756-6e593fb1c881",
    "tags": [],
    "deepnote_to_be_reexecuted": false,
    "source_hash": "77949d45",
    "execution_start": 1651937779112,
    "execution_millis": 7,
    "output_cleared": false,
    "deepnote_cell_type": "code",
    "deepnote_cell_height": 118,
    "deepnote_output_heights": [
     21
    ]
   },
   "source": "response.status_code",
   "execution_count": null,
   "outputs": [
    {
     "output_type": "execute_result",
     "execution_count": 3,
     "data": {
      "text/plain": "200"
     },
     "metadata": {}
    }
   ]
  },
  {
   "cell_type": "code",
   "metadata": {
    "cell_id": "c6b2631f-3975-4960-8a47-3ad7cd8d8549",
    "tags": [],
    "deepnote_to_be_reexecuted": false,
    "source_hash": "f8a55f5c",
    "execution_start": 1651937896620,
    "execution_millis": 0,
    "output_cleared": true,
    "deepnote_cell_type": "code",
    "deepnote_cell_height": 81
   },
   "source": "soup = BeautifulSoup(response.content, 'html.parser')",
   "execution_count": null,
   "outputs": []
  },
  {
   "cell_type": "code",
   "metadata": {
    "cell_id": "93a94881-439a-43f8-99ea-76c3cfe2d16e",
    "tags": [],
    "deepnote_to_be_reexecuted": false,
    "source_hash": "28632741",
    "execution_start": 1651937901368,
    "execution_millis": 7,
    "output_cleared": false,
    "deepnote_cell_type": "code",
    "deepnote_cell_height": 722,
    "deepnote_output_heights": [
     607
    ]
   },
   "source": "#check results\nsoup",
   "execution_count": null,
   "outputs": [
    {
     "output_type": "execute_result",
     "execution_count": 5,
     "data": {
      "text/plain": "<!DOCTYPE html>\n\n<html lang=\"en\">\n<head>\n<meta content=\"width=device-width, initial-scale=1\" name=\"viewport\"/>\n<title>FormDs.com - fund raising filing</title>\n<meta content=\"Newest Form D filings. Most recent fund raising on May 6, 2022\" name=\"description\"/>\n<script src=\"https://ajax.googleapis.com/ajax/libs/jquery/3.5.1/jquery.min.js\"></script>\n<link href=\"/stylesheets/bootstrap/bootstrap.css\" media=\"screen\" rel=\"stylesheet\"/>\n<script crossorigin=\"anonymous\" integrity=\"sha384-Tc5IQib027qvyjSMfHjOMaLkfuWVxZxUPnCJA7l2mCWNIpG9mGCD8wGNIcPD7Txa\" src=\"https://maxcdn.bootstrapcdn.com/bootstrap/3.3.7/js/bootstrap.min.js\"></script>\n<!--[if lte IE 9]>\n  <script type=\"text/javascript\">\n  window.location = '/static/not_supported.html';\n  </script>\n<![endif]-->\n<script type=\"text/javascript\">\n\n\tvar _gaq = _gaq || [];\n\t_gaq.push(['_setAccount', 'UA-8796308-7']);\n\t_gaq.push(['_trackPageview']);\n\n\t(function() {\n\t\tvar ga = document.createElement('script'); ga.type = 'text/javascript'; ga.async = true;\n\t\tga.src = ('https:' == document.location.protocol ? 'https://ssl' : 'http://www') + '.google-analytics.com/ga.js';\n\t\tvar s = document.getElementsByTagName('script')[0]; s.parentNode.insertBefore(ga, s);\n\t\t})();\n\n\t\t</script>\n<link href=\"https://www.formds.com/filings/newest\" rel=\"canonical\"/>\n</head>\n<body>\n<div class=\"navbar navbar-fixed-top\">\n<div class=\"navbar-inner\">\n<div class=\"container\">\n<div class=\"navbar-header\">\n<a class=\"navbar-brand\" href=\"/\"> FormDs.com </a>\n<button class=\"navbar-toggle collapsed\" data-target=\"#hamburger-items\" data-toggle=\"collapse\">\n<span class=\"glyphicon glyphicon-menu-hamburger\"></span>\n\n</button></div>\n<div class=\"navbar-collapse collapse\" id=\"hamburger-items\">\n<ul class=\"nav navbar-nav\">\n<li> <a href=\"/filings/newest\">Newest</a></li>\n<li class=\"hidden-xs\"> <a href=\"/filings/advanced_filter\">Filter</a></li>\n<li> <a href=\"/locales\">Local</a></li>\n</ul>\n<ul class=\"nav navbar-nav navbar-right\">\n<li>\n<form accept-charset=\"UTF-8\" action=\"/issuers/search\" id=\"search_form\" method=\"get\">\n<input class=\"search-query\" name=\"search\" placeholder=\" Search by company or person\" size=\"30\" type=\"text\"/> <span class=\"glyphicon glyphicon-search\" onclick=\"javascript:$('#search_form').submit()\">\n</span></form>\n</li>\n</ul>\n</div>\n</div>\n</div>\n</div>\n<div class=\"container\">\n<div class=\"row\">\n<h1>Newest Filings</h1>\n</div>\n<div class=\"row\">\n<table class=\"table table-condensed table-striped\">\n<thead>\n<tr>\n<th class=\"col-xs-9 col-md-5\">Company</th>\n<th class=\"col-xs-1 visible-xs\">New Filing?</th>\n<th class=\"col-md-2 hidden-xs\">Reported funding</th>\n<th class=\"col-md-2 col-xs-3\" data-placement=\"bottom\" data-toggle=\"tooltip\" title='Incremental Cash is our calculation of the likely amount of new cash raised in this fundraising. For a new filing, this will equal the reported sold amount. For amended filings, this will be the difference between the latest sold amount and the sold amount on the underlying filing. Because this process can be complicated, sometimes we show \"Unknown\" when we can not do the calculation'>Incremental Cash <span class=\"glyphicon glyphicon-info-sign\"></span></th>\n<th class=\"col-md-1 hidden-xs\">Date</th>\n<th class=\"col-md-2 hidden-xs\">New or Amended</th>\n</tr>\n</thead>\n<tr>\n<td>\n<a href=\"/issuers/eq-fund-i-a-series-of-climate-capital-deals-lp\">EQ Fund I, a series of Climate Capital Deals, LP</a>\n<span class=\"hidden-xs\">(Pooled Investment Fund)</span>\n</td>\n<td class=\"visible-xs\">Yes</td>\n<td class=\"hidden-xs\">$220,007</td>\n<td>$220,007</td>\n<td class=\"hidden-xs\">2022-05-06</td>\n<td class=\"hidden-xs\">New Filing</td>\n</tr>\n<tr>\n<td>\n<a href=\"/issuers/elizabeth-park-event-driven-fund-l-p\">ELIZABETH PARK EVENT DRIVEN FUND, L.P.</a>\n<span class=\"hidden-xs\">(Pooled Investment Fund)</span>\n</td>\n<td class=\"visible-xs\">No</td>\n<td class=\"hidden-xs\">$132,554,674</td>\n<td>$18,645,558</td>\n<td class=\"hidden-xs\">2022-05-06</td>\n<td class=\"hidden-xs\">Amended</td>\n</tr>\n<tr>\n<td>\n<a href=\"/issuers/elizabeth-park-capital-ii-lp\">ELIZABETH PARK CAPITAL II L.P.</a>\n<span class=\"hidden-xs\">(Pooled Investment Fund)</span>\n</td>\n<td class=\"visible-xs\">No</td>\n<td class=\"hidden-xs\">$73,099,558</td>\n<td>$0</td>\n<td class=\"hidden-xs\">2022-05-06</td>\n<td class=\"hidden-xs\">Amended</td>\n</tr>\n<tr>\n<td>\n<a href=\"/issuers/bwr-innovations-llc\">BWR Innovations LLC</a>\n<span class=\"hidden-xs\">(Other Technology)</span>\n</td>\n<td class=\"visible-xs\">No</td>\n<td class=\"hidden-xs\">$200,000</td>\n<td>$35,000</td>\n<td class=\"hidden-xs\">2022-05-06</td>\n<td class=\"hidden-xs\">Amended</td>\n</tr>\n<tr>\n<td>\n<a href=\"/issuers/elizabeth-park-capital-lp\">ELIZABETH PARK CAPITAL, L.P.</a>\n<span class=\"hidden-xs\">(Pooled Investment Fund)</span>\n</td>\n<td class=\"visible-xs\">No</td>\n<td class=\"hidden-xs\">$76,057,501</td>\n<td>$2,121,717</td>\n<td class=\"hidden-xs\">2022-05-06</td>\n<td class=\"hidden-xs\">Amended</td>\n</tr>\n<tr>\n<td>\n<a href=\"/issuers/b2digital-inc\">B2Digital, Inc.</a>\n<span class=\"hidden-xs\">(Other)</span>\n</td>\n<td class=\"visible-xs\">Yes</td>\n<td class=\"hidden-xs\">$270,480</td>\n<td>$270,480</td>\n<td class=\"hidden-xs\">2022-05-06</td>\n<td class=\"hidden-xs\">New Filing</td>\n</tr>\n<tr>\n<td>\n<a href=\"/issuers/elizabeth-park-capital-offshore-fund-ltd\">Elizabeth Park Capital Offshore Fund, Ltd.</a>\n<span class=\"hidden-xs\">(Pooled Investment Fund)</span>\n</td>\n<td class=\"visible-xs\">No</td>\n<td class=\"hidden-xs\">$203,455,329</td>\n<td>$750,000</td>\n<td class=\"hidden-xs\">2022-05-06</td>\n<td class=\"hidden-xs\">Amended</td>\n</tr>\n<tr>\n<td>\n<a href=\"/issuers/pleopharma-l-l-c\">PLEOPHARMA, INC.</a>\n<span class=\"hidden-xs\">(Pharmaceuticals)</span>\n</td>\n<td class=\"visible-xs\">Yes</td>\n<td class=\"hidden-xs\">$11,122,252</td>\n<td>$11,122,252</td>\n<td class=\"hidden-xs\">2022-05-06</td>\n<td class=\"hidden-xs\">New Filing</td>\n</tr>\n<tr>\n<td>\n<a href=\"/issuers/ret-fund-i-a-series-of-climate-capital-deals-lp\">RET Fund I, a series of Climate Capital Deals, LP</a>\n<span class=\"hidden-xs\">(Pooled Investment Fund)</span>\n</td>\n<td class=\"visible-xs\">Yes</td>\n<td class=\"hidden-xs\">$119,000</td>\n<td>$119,000</td>\n<td class=\"hidden-xs\">2022-05-06</td>\n<td class=\"hidden-xs\">New Filing</td>\n</tr>\n<tr>\n<td>\n<a href=\"/issuers/capw-gaingels-fund-i-a-series-of-riverside-ventures-lp\">CAPW Gaingels Fund I, a series of Riverside Ventures, LP</a>\n<span class=\"hidden-xs\">(Pooled Investment Fund)</span>\n</td>\n<td class=\"visible-xs\">Yes</td>\n<td class=\"hidden-xs\">$137,416</td>\n<td>$137,416</td>\n<td class=\"hidden-xs\">2022-05-06</td>\n<td class=\"hidden-xs\">New Filing</td>\n</tr>\n<tr>\n<td>\n<a href=\"/issuers/paradise-square-broadway-limited-partnership\">Paradise Square Broadway Limited Partnership</a>\n<span class=\"hidden-xs\">(Other)</span>\n</td>\n<td class=\"visible-xs\">No</td>\n<td class=\"hidden-xs\">$13,500,000</td>\n<td>$0</td>\n<td class=\"hidden-xs\">2022-05-06</td>\n<td class=\"hidden-xs\">Amended</td>\n</tr>\n<tr>\n<td>\n<a href=\"/issuers/icapital-renaissance-strategies-rief-l-p\">iCapital Renaissance Strategies (RIEF), L.P.</a>\n<span class=\"hidden-xs\">(Pooled Investment Fund)</span>\n</td>\n<td class=\"visible-xs\">No</td>\n<td class=\"hidden-xs\">$55,375,656</td>\n<td>$3,817,728</td>\n<td class=\"hidden-xs\">2022-05-06</td>\n<td class=\"hidden-xs\">Amended</td>\n</tr>\n<tr>\n<td>\n<a href=\"/issuers/wesana-health-holdings-inc\">Wesana Health Holdings Inc</a>\n<span class=\"hidden-xs\">(Other)</span>\n</td>\n<td class=\"visible-xs\">Yes</td>\n<td class=\"hidden-xs\">$485,670</td>\n<td>$485,670</td>\n<td class=\"hidden-xs\">2022-05-06</td>\n<td class=\"hidden-xs\">New Filing</td>\n</tr>\n<tr>\n<td>\n<a href=\"/issuers/your-problem-my-solution-llc\">Your Problem, My Solution, LLC</a>\n<span class=\"hidden-xs\">(Commercial)</span>\n</td>\n<td class=\"visible-xs\">Yes</td>\n<td class=\"hidden-xs\">Yet to Sell</td>\n<td>$0</td>\n<td class=\"hidden-xs\">2022-05-06</td>\n<td class=\"hidden-xs\">New Filing</td>\n</tr>\n<tr>\n<td>\n<a href=\"/issuers/transformativemed-inc\">TRANSFORMATIVEMED INC.</a>\n<span class=\"hidden-xs\">(Other Technology)</span>\n</td>\n<td class=\"visible-xs\">Yes</td>\n<td class=\"hidden-xs\">$1,200,000</td>\n<td>$1,200,000</td>\n<td class=\"hidden-xs\">2022-05-06</td>\n<td class=\"hidden-xs\">New Filing</td>\n</tr>\n<tr>\n<td>\n<a href=\"/issuers/th-fund-i-a-series-of-roosh-ventures-lp\">TH Fund I, a series of Roosh Ventures, LP</a>\n<span class=\"hidden-xs\">(Pooled Investment Fund)</span>\n</td>\n<td class=\"visible-xs\">Yes</td>\n<td class=\"hidden-xs\">$1,162,500</td>\n<td>$1,162,500</td>\n<td class=\"hidden-xs\">2022-05-06</td>\n<td class=\"hidden-xs\">New Filing</td>\n</tr>\n<tr>\n<td>\n<a href=\"/issuers/fund-i-a-series-of-aditya-nagarsheth-funds-lp\">Fund I, a series of Aditya Nagarsheth Funds, LP</a>\n<span class=\"hidden-xs\">(Pooled Investment Fund)</span>\n</td>\n<td class=\"visible-xs\">Yes</td>\n<td class=\"hidden-xs\">$1,838,000</td>\n<td>$1,838,000</td>\n<td class=\"hidden-xs\">2022-05-06</td>\n<td class=\"hidden-xs\">New Filing</td>\n</tr>\n<tr>\n<td>\n<a href=\"/issuers/beyu-labs-llc\">BeYu Labs LLC</a>\n<span class=\"hidden-xs\">(Other Technology)</span>\n</td>\n<td class=\"visible-xs\">Yes</td>\n<td class=\"hidden-xs\">$45,000</td>\n<td>$45,000</td>\n<td class=\"hidden-xs\">2022-05-06</td>\n<td class=\"hidden-xs\">New Filing</td>\n</tr>\n<tr>\n<td>\n<a href=\"/issuers/stone-goff-partners-iv-fte-lp\">Stone-Goff Partners IV FTE, LP</a>\n<span class=\"hidden-xs\">(Pooled Investment Fund)</span>\n</td>\n<td class=\"visible-xs\">Yes</td>\n<td class=\"hidden-xs\">Yet to Sell</td>\n<td>$0</td>\n<td class=\"hidden-xs\">2022-05-06</td>\n<td class=\"hidden-xs\">New Filing</td>\n</tr>\n<tr>\n<td>\n<a href=\"/issuers/lcm-healthcare-fund-ii-lp\">LCM HEALTHCARE FUND II, LP</a>\n<span class=\"hidden-xs\">(Pooled Investment Fund)</span>\n</td>\n<td class=\"visible-xs\">Yes</td>\n<td class=\"hidden-xs\">Yet to Sell</td>\n<td>$0</td>\n<td class=\"hidden-xs\">2022-05-06</td>\n<td class=\"hidden-xs\">New Filing</td>\n</tr>\n<tr>\n<td>\n<a href=\"/issuers/accern-corp\">Accern Corp</a>\n<span class=\"hidden-xs\">(Other Technology)</span>\n</td>\n<td class=\"visible-xs\">Yes</td>\n<td class=\"hidden-xs\">$18,875,748</td>\n<td>$18,875,748</td>\n<td class=\"hidden-xs\">2022-05-06</td>\n<td class=\"hidden-xs\">New Filing</td>\n</tr>\n<tr>\n<td>\n<a href=\"/issuers/independence-ss-llc\">Independence SS LLC</a>\n<span class=\"hidden-xs\">(Commercial)</span>\n</td>\n<td class=\"visible-xs\">Yes</td>\n<td class=\"hidden-xs\">$500,000</td>\n<td>$500,000</td>\n<td class=\"hidden-xs\">2022-05-06</td>\n<td class=\"hidden-xs\">New Filing</td>\n</tr>\n<tr>\n<td>\n<a href=\"/issuers/zora-labs-inc\">Zora Labs, Inc.</a>\n      (Other Technology - San Francisco, CA)\n\n\t</td>\n<td class=\"visible-xs\">Yes</td>\n<td class=\"hidden-xs\">$41,755,736</td>\n<td>$41,755,736</td>\n<td class=\"hidden-xs\">2022-05-06</td>\n<td class=\"hidden-xs\">New Filing</td>\n</tr>\n<tr>\n<td>\n<a href=\"/issuers/tri-peaks-capital-partners-lp\">Tri Peaks Capital Partners, LP</a>\n<span class=\"hidden-xs\">(Pooled Investment Fund)</span>\n</td>\n<td class=\"visible-xs\">Yes</td>\n<td class=\"hidden-xs\">Yet to Sell</td>\n<td>$0</td>\n<td class=\"hidden-xs\">2022-05-06</td>\n<td class=\"hidden-xs\">New Filing</td>\n</tr>\n<tr>\n<td>\n<a href=\"/issuers/stone-goff-partners-iv-lp\">Stone-Goff Partners IV, LP</a>\n<span class=\"hidden-xs\">(Pooled Investment Fund)</span>\n</td>\n<td class=\"visible-xs\">Yes</td>\n<td class=\"hidden-xs\">Yet to Sell</td>\n<td>$0</td>\n<td class=\"hidden-xs\">2022-05-06</td>\n<td class=\"hidden-xs\">New Filing</td>\n</tr>\n<tr>\n<td>\n<a href=\"/issuers/cybera-global-inc\">Cybera Global, Inc.</a>\n<span class=\"hidden-xs\">(Other Technology)</span>\n</td>\n<td class=\"visible-xs\">Yes</td>\n<td class=\"hidden-xs\">$4,399,913</td>\n<td>$4,399,913</td>\n<td class=\"hidden-xs\">2022-05-06</td>\n<td class=\"hidden-xs\">New Filing</td>\n</tr>\n<tr>\n<td>\n<a href=\"/issuers/cytomedix-inc\">Nuo Therapeutics, Inc.</a>\n<span class=\"hidden-xs\">(Other Health Care)</span>\n</td>\n<td class=\"visible-xs\">Yes</td>\n<td class=\"hidden-xs\">$3,550,000</td>\n<td>$3,550,000</td>\n<td class=\"hidden-xs\">2022-05-06</td>\n<td class=\"hidden-xs\">New Filing</td>\n</tr>\n<tr>\n<td>\n<a href=\"/issuers/ad-fund-ii-a-series-of-palumni-vc-lp\">AD Fund II, a series of Palumni VC, LP</a>\n<span class=\"hidden-xs\">(Pooled Investment Fund)</span>\n</td>\n<td class=\"visible-xs\">Yes</td>\n<td class=\"hidden-xs\">$179,594</td>\n<td>$179,594</td>\n<td class=\"hidden-xs\">2022-05-06</td>\n<td class=\"hidden-xs\">New Filing</td>\n</tr>\n<tr>\n<td>\n<a href=\"/issuers/pa1-fund-i-a-series-of-odx-investments-lp\">PA1 Fund I, a series of ODX Investments, LP</a>\n<span class=\"hidden-xs\">(Pooled Investment Fund)</span>\n</td>\n<td class=\"visible-xs\">Yes</td>\n<td class=\"hidden-xs\">$125,000</td>\n<td>$125,000</td>\n<td class=\"hidden-xs\">2022-05-06</td>\n<td class=\"hidden-xs\">New Filing</td>\n</tr>\n<tr>\n<td>\n<a href=\"/issuers/vanwest-storage-fund-iii-llc\">VanWest Storage Fund III, LLC</a>\n<span class=\"hidden-xs\">(Other Real Estate)</span>\n</td>\n<td class=\"visible-xs\">Yes</td>\n<td class=\"hidden-xs\">$1,697,212</td>\n<td>$1,697,212</td>\n<td class=\"hidden-xs\">2022-05-06</td>\n<td class=\"hidden-xs\">New Filing</td>\n</tr>\n</table>\n</div> <!-- row -->\n<div class=\"col-md-6 col-md-offset-6\">\n<div aria-label=\"Pagination\" class=\"pagination\" role=\"navigation\"><ul class=\"pagination\"><li class=\"disabled\"><a href=\"#\">← Previous</a></li> <li class=\"\"><a href=\"/filings/newest?page=2\" rel=\"next\">Next →</a></li></ul></div>\n</div>\n</div>\n<script>\n\t\t\t$(function () {\n\t\t\t\t$('[data-toggle=\"tooltip\"]').tooltip({container: \"body\"})\n\t\t\t})\n\t\t</script>\n</body>\n</html>"
     },
     "metadata": {}
    }
   ]
  },
  {
   "cell_type": "code",
   "metadata": {
    "cell_id": "070d980f-c3e8-492d-a0f2-a8f0c2aa685a",
    "tags": [],
    "deepnote_to_be_reexecuted": false,
    "source_hash": "92e3875c",
    "execution_start": 1651938145016,
    "execution_millis": 0,
    "output_cleared": true,
    "deepnote_cell_type": "code",
    "deepnote_cell_height": 135
   },
   "source": "#pull company names and store in a list, excluding words that are not needed\nnot_comps = [' FormDs.com ', 'Newest', 'Filter', 'Local', '← Previous', 'Next →']\ncompanies = [company.get_text() for company in soup.find_all('a')]\norgs = [company for company in companies if company not in not_comps]",
   "execution_count": null,
   "outputs": []
  },
  {
   "cell_type": "code",
   "metadata": {
    "cell_id": "ff45e869-9ad2-4f46-9fcc-b3dcb3b6f27f",
    "tags": [],
    "deepnote_to_be_reexecuted": false,
    "source_hash": "e379fd9a",
    "execution_start": 1651938148096,
    "execution_millis": 4,
    "output_cleared": false,
    "deepnote_cell_type": "code",
    "deepnote_cell_height": 687,
    "deepnote_output_heights": [
     572
    ]
   },
   "source": "#check results\norgs",
   "execution_count": null,
   "outputs": [
    {
     "output_type": "execute_result",
     "execution_count": 7,
     "data": {
      "text/plain": "['EQ Fund I, a series of Climate Capital Deals, LP',\n 'ELIZABETH PARK EVENT DRIVEN FUND, L.P.',\n 'ELIZABETH PARK CAPITAL II L.P.',\n 'BWR Innovations LLC',\n 'ELIZABETH PARK CAPITAL, L.P.',\n 'B2Digital, Inc.',\n 'Elizabeth Park Capital Offshore Fund, Ltd.',\n 'PLEOPHARMA, INC.',\n 'RET Fund I, a series of Climate Capital Deals, LP',\n 'CAPW Gaingels Fund I, a series of Riverside Ventures, LP',\n 'Paradise Square Broadway Limited Partnership',\n 'iCapital Renaissance Strategies (RIEF), L.P.',\n 'Wesana Health Holdings Inc',\n 'Your Problem, My Solution, LLC',\n 'TRANSFORMATIVEMED INC.',\n 'TH Fund I, a series of Roosh Ventures, LP',\n 'Fund I, a series of Aditya Nagarsheth Funds, LP',\n 'BeYu Labs LLC',\n 'Stone-Goff Partners IV FTE, LP',\n 'LCM HEALTHCARE FUND II, LP',\n 'Accern Corp',\n 'Independence SS LLC',\n 'Zora Labs, Inc.',\n 'Tri Peaks Capital Partners, LP',\n 'Stone-Goff Partners IV, LP',\n 'Cybera Global, Inc.',\n 'Nuo Therapeutics, Inc.',\n 'AD Fund II, a series of Palumni VC, LP',\n 'PA1 Fund I, a series of ODX Investments, LP',\n 'VanWest Storage Fund III, LLC']"
     },
     "metadata": {}
    }
   ]
  },
  {
   "cell_type": "code",
   "metadata": {
    "cell_id": "aa546511-455a-4994-82cf-df5a2081c869",
    "tags": [],
    "deepnote_to_be_reexecuted": false,
    "source_hash": "4a886ae0",
    "execution_start": 1651938371257,
    "execution_millis": 0,
    "output_cleared": true,
    "deepnote_cell_type": "code",
    "deepnote_cell_height": 99
   },
   "source": "#pulls our funding round amount and stores in list\nfunding = [amount.get_text() for amount in soup.find_all('td', {'class': 'hidden-xs'})[0::3]]",
   "execution_count": null,
   "outputs": []
  },
  {
   "cell_type": "code",
   "metadata": {
    "cell_id": "4173ddda-a6d6-40b4-9f6c-6e61b32a0f4e",
    "tags": [],
    "deepnote_to_be_reexecuted": false,
    "source_hash": "f0f2e971",
    "execution_start": 1651938405764,
    "execution_millis": 6,
    "output_cleared": false,
    "deepnote_cell_type": "code",
    "deepnote_cell_height": 687,
    "deepnote_output_heights": [
     572
    ]
   },
   "source": "#check results\nfunding",
   "execution_count": null,
   "outputs": [
    {
     "output_type": "execute_result",
     "execution_count": 9,
     "data": {
      "text/plain": "['$220,007',\n '$132,554,674',\n '$73,099,558',\n '$200,000',\n '$76,057,501',\n '$270,480',\n '$203,455,329',\n '$11,122,252',\n '$119,000',\n '$137,416',\n '$13,500,000',\n '$55,375,656',\n '$485,670',\n 'Yet to Sell',\n '$1,200,000',\n '$1,162,500',\n '$1,838,000',\n '$45,000',\n 'Yet to Sell',\n 'Yet to Sell',\n '$18,875,748',\n '$500,000',\n '$41,755,736',\n 'Yet to Sell',\n 'Yet to Sell',\n '$4,399,913',\n '$3,550,000',\n '$179,594',\n '$125,000',\n '$1,697,212']"
     },
     "metadata": {}
    }
   ]
  },
  {
   "cell_type": "code",
   "metadata": {
    "cell_id": "89a1c335-4338-4f4e-8392-313bf8a6dd03",
    "tags": [],
    "deepnote_to_be_reexecuted": false,
    "source_hash": "e4c36dd0",
    "execution_start": 1651938875292,
    "execution_millis": 0,
    "output_cleared": true,
    "deepnote_cell_type": "code",
    "deepnote_cell_height": 99
   },
   "source": "#pulls out the incremental cash amount which is the new amount of cash raised and stores it in a list\nnew_cash_raised = [cash.get_text() for cash in soup.find_all('td')[3::6]]",
   "execution_count": null,
   "outputs": []
  },
  {
   "cell_type": "code",
   "metadata": {
    "cell_id": "8c091c41-294d-42cf-94af-6875330a2ee4",
    "tags": [],
    "deepnote_to_be_reexecuted": false,
    "source_hash": "e8e85df9",
    "execution_start": 1651938878712,
    "execution_millis": 4,
    "output_cleared": false,
    "deepnote_cell_type": "code",
    "deepnote_cell_height": 687,
    "deepnote_output_heights": [
     572
    ]
   },
   "source": "#check results\nnew_cash_raised",
   "execution_count": null,
   "outputs": [
    {
     "output_type": "execute_result",
     "execution_count": 11,
     "data": {
      "text/plain": "['$220,007',\n '$18,645,558',\n '$0',\n '$35,000',\n '$2,121,717',\n '$270,480',\n '$750,000',\n '$11,122,252',\n '$119,000',\n '$137,416',\n '$0',\n '$3,817,728',\n '$485,670',\n '$0',\n '$1,200,000',\n '$1,162,500',\n '$1,838,000',\n '$45,000',\n '$0',\n '$0',\n '$18,875,748',\n '$500,000',\n '$41,755,736',\n '$0',\n '$0',\n '$4,399,913',\n '$3,550,000',\n '$179,594',\n '$125,000',\n '$1,697,212']"
     },
     "metadata": {}
    }
   ]
  },
  {
   "cell_type": "code",
   "metadata": {
    "cell_id": "bf69925b-bb80-4ce6-94a7-ce4ff0465861",
    "tags": [],
    "deepnote_to_be_reexecuted": false,
    "source_hash": "46f64bc",
    "execution_start": 1651938950244,
    "execution_millis": 0,
    "output_cleared": true,
    "deepnote_cell_type": "code",
    "deepnote_cell_height": 99
   },
   "source": "#pull dates and store in a list\ndates = [date.get_text() for date in soup.find_all('td', {'class': 'hidden-xs'})[1::3]]",
   "execution_count": null,
   "outputs": []
  },
  {
   "cell_type": "code",
   "metadata": {
    "cell_id": "a7c6065a-ddc6-4835-8c41-54e78a6f253b",
    "tags": [],
    "deepnote_to_be_reexecuted": false,
    "source_hash": "7ae1cef9",
    "execution_start": 1651938953877,
    "execution_millis": 3,
    "output_cleared": false,
    "deepnote_cell_type": "code",
    "deepnote_cell_height": 687,
    "deepnote_output_heights": [
     572
    ]
   },
   "source": "#check results\ndates",
   "execution_count": null,
   "outputs": [
    {
     "output_type": "execute_result",
     "execution_count": 13,
     "data": {
      "text/plain": "['2022-05-06',\n '2022-05-06',\n '2022-05-06',\n '2022-05-06',\n '2022-05-06',\n '2022-05-06',\n '2022-05-06',\n '2022-05-06',\n '2022-05-06',\n '2022-05-06',\n '2022-05-06',\n '2022-05-06',\n '2022-05-06',\n '2022-05-06',\n '2022-05-06',\n '2022-05-06',\n '2022-05-06',\n '2022-05-06',\n '2022-05-06',\n '2022-05-06',\n '2022-05-06',\n '2022-05-06',\n '2022-05-06',\n '2022-05-06',\n '2022-05-06',\n '2022-05-06',\n '2022-05-06',\n '2022-05-06',\n '2022-05-06',\n '2022-05-06']"
     },
     "metadata": {}
    }
   ]
  },
  {
   "cell_type": "code",
   "metadata": {
    "cell_id": "d5eb13ca-6204-4a8d-b371-df312775eba5",
    "tags": [],
    "deepnote_to_be_reexecuted": false,
    "source_hash": "a0a39b95",
    "execution_start": 1651939001388,
    "execution_millis": 0,
    "output_cleared": true,
    "deepnote_cell_type": "code",
    "deepnote_cell_height": 99
   },
   "source": "#pull status or whether this is a new/amended filing\nnew_amend = [nwstatus.get_text() for nwstatus in soup.find_all('td', {'class': 'hidden-xs'})[2::3]]",
   "execution_count": null,
   "outputs": []
  },
  {
   "cell_type": "code",
   "metadata": {
    "cell_id": "a0ddce7c-9a51-4bad-b5b2-49303de32f7a",
    "tags": [],
    "deepnote_to_be_reexecuted": false,
    "source_hash": "3e0ffc96",
    "execution_start": 1651939004980,
    "execution_millis": 1,
    "output_cleared": false,
    "deepnote_cell_type": "code",
    "deepnote_cell_height": 687,
    "deepnote_output_heights": [
     572
    ]
   },
   "source": "#check results\nnew_amend",
   "execution_count": null,
   "outputs": [
    {
     "output_type": "execute_result",
     "execution_count": 15,
     "data": {
      "text/plain": "['New Filing',\n 'Amended',\n 'Amended',\n 'Amended',\n 'Amended',\n 'New Filing',\n 'Amended',\n 'New Filing',\n 'New Filing',\n 'New Filing',\n 'Amended',\n 'Amended',\n 'New Filing',\n 'New Filing',\n 'New Filing',\n 'New Filing',\n 'New Filing',\n 'New Filing',\n 'New Filing',\n 'New Filing',\n 'New Filing',\n 'New Filing',\n 'New Filing',\n 'New Filing',\n 'New Filing',\n 'New Filing',\n 'New Filing',\n 'New Filing',\n 'New Filing',\n 'New Filing']"
     },
     "metadata": {}
    }
   ]
  },
  {
   "cell_type": "code",
   "metadata": {
    "cell_id": "251ae3f6-716e-4782-a61b-3be849ae0c20",
    "tags": [],
    "deepnote_to_be_reexecuted": false,
    "source_hash": "12b1133e",
    "execution_start": 1651939049020,
    "execution_millis": 0,
    "output_cleared": true,
    "deepnote_cell_type": "code",
    "deepnote_cell_height": 153
   },
   "source": "#bc stored data variables are lists, we need to tranpose, create a dataframe, and the columns for a complete dataframe\n#essentially, this code stores the data in a dataframe after transposing the list(i.e final_results) of lists(i.e. orgs, funding, new_cash_raised, dates, and new_amended) to columns\nfinal_results = [orgs, funding, new_cash_raised, dates, new_amend]\ndf = pd.DataFrame(final_results).transpose()\ndf.columns = ['Company Name', 'Funding Amount', 'New Cash Raised', 'Date', 'New or Amended'] ",
   "execution_count": null,
   "outputs": []
  },
  {
   "cell_type": "code",
   "metadata": {
    "cell_id": "820e5873-3ee6-4fde-94a1-2a43a7521726",
    "tags": [],
    "deepnote_to_be_reexecuted": false,
    "source_hash": "4dc9a7b3",
    "execution_start": 1651939057838,
    "execution_millis": 29,
    "output_cleared": false,
    "deepnote_table_state": {
     "pageSize": 10,
     "pageIndex": 0,
     "filters": [],
     "sortBy": []
    },
    "deepnote_table_loading": false,
    "deepnote_cell_type": "code",
    "deepnote_cell_height": 618
   },
   "source": "#check dataframe\ndf",
   "execution_count": null,
   "outputs": [
    {
     "output_type": "execute_result",
     "execution_count": 17,
     "data": {
      "application/vnd.deepnote.dataframe.v3+json": {
       "column_count": 5,
       "row_count": 30,
       "columns": [
        {
         "name": "Company Name",
         "dtype": "object",
         "stats": {
          "unique_count": 30,
          "nan_count": 0,
          "categories": [
           {
            "name": "EQ Fund I, a series of Climate Capital Deals, LP",
            "count": 1
           },
           {
            "name": "ELIZABETH PARK EVENT DRIVEN FUND, L.P.",
            "count": 1
           },
           {
            "name": "28 others",
            "count": 28
           }
          ]
         }
        },
        {
         "name": "Funding Amount",
         "dtype": "object",
         "stats": {
          "unique_count": 26,
          "nan_count": 0,
          "categories": [
           {
            "name": "Yet to Sell",
            "count": 5
           },
           {
            "name": "$220,007",
            "count": 1
           },
           {
            "name": "24 others",
            "count": 24
           }
          ]
         }
        },
        {
         "name": "New Cash Raised",
         "dtype": "object",
         "stats": {
          "unique_count": 24,
          "nan_count": 0,
          "categories": [
           {
            "name": "$0",
            "count": 7
           },
           {
            "name": "$220,007",
            "count": 1
           },
           {
            "name": "22 others",
            "count": 22
           }
          ]
         }
        },
        {
         "name": "Date",
         "dtype": "object",
         "stats": {
          "unique_count": 1,
          "nan_count": 0,
          "categories": [
           {
            "name": "2022-05-06",
            "count": 30
           }
          ]
         }
        },
        {
         "name": "New or Amended",
         "dtype": "object",
         "stats": {
          "unique_count": 2,
          "nan_count": 0,
          "categories": [
           {
            "name": "New Filing",
            "count": 23
           },
           {
            "name": "Amended",
            "count": 7
           }
          ]
         }
        },
        {
         "name": "_deepnote_index_column",
         "dtype": "int64"
        }
       ],
       "rows": [
        {
         "Company Name": "EQ Fund I, a series of Climate Capital Deals, LP",
         "Funding Amount": "$220,007",
         "New Cash Raised": "$220,007",
         "Date": "2022-05-06",
         "New or Amended": "New Filing",
         "_deepnote_index_column": 0
        },
        {
         "Company Name": "ELIZABETH PARK EVENT DRIVEN FUND, L.P.",
         "Funding Amount": "$132,554,674",
         "New Cash Raised": "$18,645,558",
         "Date": "2022-05-06",
         "New or Amended": "Amended",
         "_deepnote_index_column": 1
        },
        {
         "Company Name": "ELIZABETH PARK CAPITAL II L.P.",
         "Funding Amount": "$73,099,558",
         "New Cash Raised": "$0",
         "Date": "2022-05-06",
         "New or Amended": "Amended",
         "_deepnote_index_column": 2
        },
        {
         "Company Name": "BWR Innovations LLC",
         "Funding Amount": "$200,000",
         "New Cash Raised": "$35,000",
         "Date": "2022-05-06",
         "New or Amended": "Amended",
         "_deepnote_index_column": 3
        },
        {
         "Company Name": "ELIZABETH PARK CAPITAL, L.P.",
         "Funding Amount": "$76,057,501",
         "New Cash Raised": "$2,121,717",
         "Date": "2022-05-06",
         "New or Amended": "Amended",
         "_deepnote_index_column": 4
        },
        {
         "Company Name": "B2Digital, Inc.",
         "Funding Amount": "$270,480",
         "New Cash Raised": "$270,480",
         "Date": "2022-05-06",
         "New or Amended": "New Filing",
         "_deepnote_index_column": 5
        },
        {
         "Company Name": "Elizabeth Park Capital Offshore Fund, Ltd.",
         "Funding Amount": "$203,455,329",
         "New Cash Raised": "$750,000",
         "Date": "2022-05-06",
         "New or Amended": "Amended",
         "_deepnote_index_column": 6
        },
        {
         "Company Name": "PLEOPHARMA, INC.",
         "Funding Amount": "$11,122,252",
         "New Cash Raised": "$11,122,252",
         "Date": "2022-05-06",
         "New or Amended": "New Filing",
         "_deepnote_index_column": 7
        },
        {
         "Company Name": "RET Fund I, a series of Climate Capital Deals, LP",
         "Funding Amount": "$119,000",
         "New Cash Raised": "$119,000",
         "Date": "2022-05-06",
         "New or Amended": "New Filing",
         "_deepnote_index_column": 8
        },
        {
         "Company Name": "CAPW Gaingels Fund I, a series of Riverside Ventures, LP",
         "Funding Amount": "$137,416",
         "New Cash Raised": "$137,416",
         "Date": "2022-05-06",
         "New or Amended": "New Filing",
         "_deepnote_index_column": 9
        }
       ]
      },
      "text/plain": "                                         Company Name Funding Amount  \\\n0    EQ Fund I, a series of Climate Capital Deals, LP       $220,007   \n1              ELIZABETH PARK EVENT DRIVEN FUND, L.P.   $132,554,674   \n2                      ELIZABETH PARK CAPITAL II L.P.    $73,099,558   \n3                                 BWR Innovations LLC       $200,000   \n4                        ELIZABETH PARK CAPITAL, L.P.    $76,057,501   \n5                                     B2Digital, Inc.       $270,480   \n6          Elizabeth Park Capital Offshore Fund, Ltd.   $203,455,329   \n7                                    PLEOPHARMA, INC.    $11,122,252   \n8   RET Fund I, a series of Climate Capital Deals, LP       $119,000   \n9   CAPW Gaingels Fund I, a series of Riverside Ve...       $137,416   \n10       Paradise Square Broadway Limited Partnership    $13,500,000   \n11       iCapital Renaissance Strategies (RIEF), L.P.    $55,375,656   \n12                         Wesana Health Holdings Inc       $485,670   \n13                     Your Problem, My Solution, LLC    Yet to Sell   \n14                             TRANSFORMATIVEMED INC.     $1,200,000   \n15          TH Fund I, a series of Roosh Ventures, LP     $1,162,500   \n16    Fund I, a series of Aditya Nagarsheth Funds, LP     $1,838,000   \n17                                      BeYu Labs LLC        $45,000   \n18                     Stone-Goff Partners IV FTE, LP    Yet to Sell   \n19                         LCM HEALTHCARE FUND II, LP    Yet to Sell   \n20                                        Accern Corp    $18,875,748   \n21                                Independence SS LLC       $500,000   \n22                                    Zora Labs, Inc.    $41,755,736   \n23                     Tri Peaks Capital Partners, LP    Yet to Sell   \n24                         Stone-Goff Partners IV, LP    Yet to Sell   \n25                                Cybera Global, Inc.     $4,399,913   \n26                             Nuo Therapeutics, Inc.     $3,550,000   \n27             AD Fund II, a series of Palumni VC, LP       $179,594   \n28        PA1 Fund I, a series of ODX Investments, LP       $125,000   \n29                      VanWest Storage Fund III, LLC     $1,697,212   \n\n   New Cash Raised        Date New or Amended  \n0         $220,007  2022-05-06     New Filing  \n1      $18,645,558  2022-05-06        Amended  \n2               $0  2022-05-06        Amended  \n3          $35,000  2022-05-06        Amended  \n4       $2,121,717  2022-05-06        Amended  \n5         $270,480  2022-05-06     New Filing  \n6         $750,000  2022-05-06        Amended  \n7      $11,122,252  2022-05-06     New Filing  \n8         $119,000  2022-05-06     New Filing  \n9         $137,416  2022-05-06     New Filing  \n10              $0  2022-05-06        Amended  \n11      $3,817,728  2022-05-06        Amended  \n12        $485,670  2022-05-06     New Filing  \n13              $0  2022-05-06     New Filing  \n14      $1,200,000  2022-05-06     New Filing  \n15      $1,162,500  2022-05-06     New Filing  \n16      $1,838,000  2022-05-06     New Filing  \n17         $45,000  2022-05-06     New Filing  \n18              $0  2022-05-06     New Filing  \n19              $0  2022-05-06     New Filing  \n20     $18,875,748  2022-05-06     New Filing  \n21        $500,000  2022-05-06     New Filing  \n22     $41,755,736  2022-05-06     New Filing  \n23              $0  2022-05-06     New Filing  \n24              $0  2022-05-06     New Filing  \n25      $4,399,913  2022-05-06     New Filing  \n26      $3,550,000  2022-05-06     New Filing  \n27        $179,594  2022-05-06     New Filing  \n28        $125,000  2022-05-06     New Filing  \n29      $1,697,212  2022-05-06     New Filing  ",
      "text/html": "<div>\n<style scoped>\n    .dataframe tbody tr th:only-of-type {\n        vertical-align: middle;\n    }\n\n    .dataframe tbody tr th {\n        vertical-align: top;\n    }\n\n    .dataframe thead th {\n        text-align: right;\n    }\n</style>\n<table border=\"1\" class=\"dataframe\">\n  <thead>\n    <tr style=\"text-align: right;\">\n      <th></th>\n      <th>Company Name</th>\n      <th>Funding Amount</th>\n      <th>New Cash Raised</th>\n      <th>Date</th>\n      <th>New or Amended</th>\n    </tr>\n  </thead>\n  <tbody>\n    <tr>\n      <th>0</th>\n      <td>EQ Fund I, a series of Climate Capital Deals, LP</td>\n      <td>$220,007</td>\n      <td>$220,007</td>\n      <td>2022-05-06</td>\n      <td>New Filing</td>\n    </tr>\n    <tr>\n      <th>1</th>\n      <td>ELIZABETH PARK EVENT DRIVEN FUND, L.P.</td>\n      <td>$132,554,674</td>\n      <td>$18,645,558</td>\n      <td>2022-05-06</td>\n      <td>Amended</td>\n    </tr>\n    <tr>\n      <th>2</th>\n      <td>ELIZABETH PARK CAPITAL II L.P.</td>\n      <td>$73,099,558</td>\n      <td>$0</td>\n      <td>2022-05-06</td>\n      <td>Amended</td>\n    </tr>\n    <tr>\n      <th>3</th>\n      <td>BWR Innovations LLC</td>\n      <td>$200,000</td>\n      <td>$35,000</td>\n      <td>2022-05-06</td>\n      <td>Amended</td>\n    </tr>\n    <tr>\n      <th>4</th>\n      <td>ELIZABETH PARK CAPITAL, L.P.</td>\n      <td>$76,057,501</td>\n      <td>$2,121,717</td>\n      <td>2022-05-06</td>\n      <td>Amended</td>\n    </tr>\n    <tr>\n      <th>5</th>\n      <td>B2Digital, Inc.</td>\n      <td>$270,480</td>\n      <td>$270,480</td>\n      <td>2022-05-06</td>\n      <td>New Filing</td>\n    </tr>\n    <tr>\n      <th>6</th>\n      <td>Elizabeth Park Capital Offshore Fund, Ltd.</td>\n      <td>$203,455,329</td>\n      <td>$750,000</td>\n      <td>2022-05-06</td>\n      <td>Amended</td>\n    </tr>\n    <tr>\n      <th>7</th>\n      <td>PLEOPHARMA, INC.</td>\n      <td>$11,122,252</td>\n      <td>$11,122,252</td>\n      <td>2022-05-06</td>\n      <td>New Filing</td>\n    </tr>\n    <tr>\n      <th>8</th>\n      <td>RET Fund I, a series of Climate Capital Deals, LP</td>\n      <td>$119,000</td>\n      <td>$119,000</td>\n      <td>2022-05-06</td>\n      <td>New Filing</td>\n    </tr>\n    <tr>\n      <th>9</th>\n      <td>CAPW Gaingels Fund I, a series of Riverside Ve...</td>\n      <td>$137,416</td>\n      <td>$137,416</td>\n      <td>2022-05-06</td>\n      <td>New Filing</td>\n    </tr>\n    <tr>\n      <th>10</th>\n      <td>Paradise Square Broadway Limited Partnership</td>\n      <td>$13,500,000</td>\n      <td>$0</td>\n      <td>2022-05-06</td>\n      <td>Amended</td>\n    </tr>\n    <tr>\n      <th>11</th>\n      <td>iCapital Renaissance Strategies (RIEF), L.P.</td>\n      <td>$55,375,656</td>\n      <td>$3,817,728</td>\n      <td>2022-05-06</td>\n      <td>Amended</td>\n    </tr>\n    <tr>\n      <th>12</th>\n      <td>Wesana Health Holdings Inc</td>\n      <td>$485,670</td>\n      <td>$485,670</td>\n      <td>2022-05-06</td>\n      <td>New Filing</td>\n    </tr>\n    <tr>\n      <th>13</th>\n      <td>Your Problem, My Solution, LLC</td>\n      <td>Yet to Sell</td>\n      <td>$0</td>\n      <td>2022-05-06</td>\n      <td>New Filing</td>\n    </tr>\n    <tr>\n      <th>14</th>\n      <td>TRANSFORMATIVEMED INC.</td>\n      <td>$1,200,000</td>\n      <td>$1,200,000</td>\n      <td>2022-05-06</td>\n      <td>New Filing</td>\n    </tr>\n    <tr>\n      <th>15</th>\n      <td>TH Fund I, a series of Roosh Ventures, LP</td>\n      <td>$1,162,500</td>\n      <td>$1,162,500</td>\n      <td>2022-05-06</td>\n      <td>New Filing</td>\n    </tr>\n    <tr>\n      <th>16</th>\n      <td>Fund I, a series of Aditya Nagarsheth Funds, LP</td>\n      <td>$1,838,000</td>\n      <td>$1,838,000</td>\n      <td>2022-05-06</td>\n      <td>New Filing</td>\n    </tr>\n    <tr>\n      <th>17</th>\n      <td>BeYu Labs LLC</td>\n      <td>$45,000</td>\n      <td>$45,000</td>\n      <td>2022-05-06</td>\n      <td>New Filing</td>\n    </tr>\n    <tr>\n      <th>18</th>\n      <td>Stone-Goff Partners IV FTE, LP</td>\n      <td>Yet to Sell</td>\n      <td>$0</td>\n      <td>2022-05-06</td>\n      <td>New Filing</td>\n    </tr>\n    <tr>\n      <th>19</th>\n      <td>LCM HEALTHCARE FUND II, LP</td>\n      <td>Yet to Sell</td>\n      <td>$0</td>\n      <td>2022-05-06</td>\n      <td>New Filing</td>\n    </tr>\n    <tr>\n      <th>20</th>\n      <td>Accern Corp</td>\n      <td>$18,875,748</td>\n      <td>$18,875,748</td>\n      <td>2022-05-06</td>\n      <td>New Filing</td>\n    </tr>\n    <tr>\n      <th>21</th>\n      <td>Independence SS LLC</td>\n      <td>$500,000</td>\n      <td>$500,000</td>\n      <td>2022-05-06</td>\n      <td>New Filing</td>\n    </tr>\n    <tr>\n      <th>22</th>\n      <td>Zora Labs, Inc.</td>\n      <td>$41,755,736</td>\n      <td>$41,755,736</td>\n      <td>2022-05-06</td>\n      <td>New Filing</td>\n    </tr>\n    <tr>\n      <th>23</th>\n      <td>Tri Peaks Capital Partners, LP</td>\n      <td>Yet to Sell</td>\n      <td>$0</td>\n      <td>2022-05-06</td>\n      <td>New Filing</td>\n    </tr>\n    <tr>\n      <th>24</th>\n      <td>Stone-Goff Partners IV, LP</td>\n      <td>Yet to Sell</td>\n      <td>$0</td>\n      <td>2022-05-06</td>\n      <td>New Filing</td>\n    </tr>\n    <tr>\n      <th>25</th>\n      <td>Cybera Global, Inc.</td>\n      <td>$4,399,913</td>\n      <td>$4,399,913</td>\n      <td>2022-05-06</td>\n      <td>New Filing</td>\n    </tr>\n    <tr>\n      <th>26</th>\n      <td>Nuo Therapeutics, Inc.</td>\n      <td>$3,550,000</td>\n      <td>$3,550,000</td>\n      <td>2022-05-06</td>\n      <td>New Filing</td>\n    </tr>\n    <tr>\n      <th>27</th>\n      <td>AD Fund II, a series of Palumni VC, LP</td>\n      <td>$179,594</td>\n      <td>$179,594</td>\n      <td>2022-05-06</td>\n      <td>New Filing</td>\n    </tr>\n    <tr>\n      <th>28</th>\n      <td>PA1 Fund I, a series of ODX Investments, LP</td>\n      <td>$125,000</td>\n      <td>$125,000</td>\n      <td>2022-05-06</td>\n      <td>New Filing</td>\n    </tr>\n    <tr>\n      <th>29</th>\n      <td>VanWest Storage Fund III, LLC</td>\n      <td>$1,697,212</td>\n      <td>$1,697,212</td>\n      <td>2022-05-06</td>\n      <td>New Filing</td>\n    </tr>\n  </tbody>\n</table>\n</div>"
     },
     "metadata": {}
    }
   ]
  },
  {
   "cell_type": "code",
   "metadata": {
    "cell_id": "6141a85e-af06-4600-bc58-a7a4cc5ceef7",
    "tags": [],
    "output_cleared": true,
    "deepnote_to_be_reexecuted": false,
    "source_hash": "7467628d",
    "execution_start": 1651939092936,
    "execution_millis": 0,
    "owner_user_id": "a9887991-4eaf-47f9-9cf2-f2d9fa5c2217",
    "deepnote_cell_type": "code",
    "deepnote_cell_height": 99
   },
   "source": "#convert dataframe to a csv\ndf.to_csv('new_funding_rounds.csv')",
   "execution_count": null,
   "outputs": []
  },
  {
   "cell_type": "code",
   "metadata": {
    "cell_id": "fde1570784e940aa8ab16b80904ecdf5",
    "tags": [],
    "deepnote_cell_type": "code",
    "deepnote_cell_height": 66
   },
   "source": "",
   "execution_count": null,
   "outputs": []
  },
  {
   "cell_type": "markdown",
   "source": "<a style='text-decoration:none;line-height:16px;display:flex;color:#5B5B62;padding:10px;justify-content:end;' href='https://deepnote.com?utm_source=created-in-deepnote-cell&projectId=422ecbd0-6b22-4ded-8d11-ea8c5e309476' target=\"_blank\">\n<img alt='Created in deepnote.com' style='display:inline;max-height:16px;margin:0px;margin-right:7.5px;' src='data:image/svg+xml;base64,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' > </img>\nCreated in <span style='font-weight:600;margin-left:4px;'>Deepnote</span></a>",
   "metadata": {
    "tags": [],
    "created_in_deepnote_cell": true,
    "deepnote_cell_type": "markdown"
   }
  }
 ],
 "nbformat": 4,
 "nbformat_minor": 2,
 "metadata": {
  "orig_nbformat": 2,
  "deepnote": {
   "is_reactive": false
  },
  "deepnote_notebook_id": "5d7a3c95-5429-412d-b4d4-8567fc16aff6",
  "deepnote_execution_queue": []
 }
}